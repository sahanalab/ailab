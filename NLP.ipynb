{
  "nbformat": 4,
  "nbformat_minor": 0,
  "metadata": {
    "colab": {
      "provenance": []
    },
    "kernelspec": {
      "name": "python3",
      "display_name": "Python 3"
    },
    "language_info": {
      "name": "python"
    }
  },
  "cells": [
    {
      "cell_type": "code",
      "execution_count": 3,
      "metadata": {
        "colab": {
          "base_uri": "https://localhost:8080/"
        },
        "id": "ZAFb0ZYKERXZ",
        "outputId": "717946be-4e2c-432b-fa96-f9c321a7a93c"
      },
      "outputs": [
        {
          "output_type": "stream",
          "name": "stderr",
          "text": [
            "[nltk_data] Downloading package punkt_tab to /root/nltk_data...\n",
            "[nltk_data]   Package punkt_tab is already up-to-date!\n",
            "[nltk_data] Downloading package averaged_perceptron_tagger_eng to\n",
            "[nltk_data]     /root/nltk_data...\n",
            "[nltk_data]   Unzipping taggers/averaged_perceptron_tagger_eng.zip.\n"
          ]
        },
        {
          "output_type": "stream",
          "name": "stdout",
          "text": [
            "Words Tokenization:\n",
            "['NLTK', 'is', 'a', 'leading', 'platform', 'for', 'building', 'Python', 'programs', 'to', 'work', 'with', 'human', 'language', 'data', '.', 'It', 'provides', 'easy-to-use', 'interfaces', 'to', 'over', '50', 'corpora', 'and', 'lexical', 'resources', '.']\n",
            "\n",
            "Sentence Tokenization:\n",
            "['NLTK is a leading platform for building Python programs to work with human language data.', 'It provides easy-to-use interfaces to over 50 corpora and lexical resources.']\n",
            "\n",
            "After Stopword Removal:\n",
            "['NLTK', 'leading', 'platform', 'building', 'Python', 'programs', 'work', 'human', 'language', 'data', '.', 'provides', 'easy-to-use', 'interfaces', '50', 'corpora', 'lexical', 'resources', '.']\n",
            "\n",
            "After Stemming:\n",
            "['nltk', 'lead', 'platform', 'build', 'python', 'program', 'work', 'human', 'languag', 'data', '.', 'provid', 'easy-to-us', 'interfac', '50', 'corpora', 'lexic', 'resourc', '.']\n",
            "\n",
            "Parts of Speech Tagging:\n",
            "[('NLTK', 'NNP'), ('leading', 'VBG'), ('platform', 'NN'), ('building', 'NN'), ('Python', 'NNP'), ('programs', 'NNS'), ('work', 'VBP'), ('human', 'JJ'), ('language', 'NN'), ('data', 'NNS'), ('.', '.'), ('provides', 'VBZ'), ('easy-to-use', 'JJ'), ('interfaces', 'NNS'), ('50', 'CD'), ('corpora', 'NNS'), ('lexical', 'JJ'), ('resources', 'NNS'), ('.', '.')]\n"
          ]
        }
      ],
      "source": [
        "import nltk\n",
        "from nltk.tokenize import word_tokenize, sent_tokenize\n",
        "from nltk.corpus import stopwords\n",
        "from nltk.stem import PorterStemmer\n",
        "from nltk import pos_tag\n",
        "import os\n",
        "\n",
        "nltk.download('punkt_tab')\n",
        "nltk.download('averaged_perceptron_tagger_eng')\n",
        "\n",
        "\n",
        "# Ensure NLTK data is available\n",
        "nltk_data_path = os.path.join(os.getcwd(), 'nltk_data')\n",
        "os.makedirs(nltk_data_path, exist_ok=True)\n",
        "nltk.data.path.append(nltk_data_path)\n",
        "\n",
        "# Function to check and download NLTK resources if missing\n",
        "def ensure_nltk_resource(resource_name, resource_path):\n",
        "    try:\n",
        "        nltk.data.find(resource_path)\n",
        "    except LookupError:\n",
        "        nltk.download(resource_name, download_dir=nltk_data_path)\n",
        "\n",
        "# Ensure required NLTK resources are available\n",
        "ensure_nltk_resource('punkt', 'tokenizers/punkt')\n",
        "ensure_nltk_resource('stopwords', 'corpora/stopwords')\n",
        "ensure_nltk_resource('averaged_perceptron_tagger', 'taggers/averaged_perceptron_tagger')\n",
        "\n",
        "# Sample text\n",
        "text = \"NLTK is a leading platform for building Python programs to work with human language data. It provides easy-to-use interfaces to over 50 corpora and lexical resources.\"\n",
        "\n",
        "# Tokenization by Word\n",
        "words = word_tokenize(text)\n",
        "print(\"Words Tokenization:\")\n",
        "print(words)\n",
        "print()\n",
        "\n",
        "# Tokenization by Sentence\n",
        "sentences = sent_tokenize(text)\n",
        "print(\"Sentence Tokenization:\")\n",
        "print(sentences)\n",
        "print()\n",
        "\n",
        "# Eliminating Stop Words\n",
        "stop_words = set(stopwords.words('english'))\n",
        "filtered_words = [word for word in words if word.lower() not in stop_words]\n",
        "print(\"After Stopword Removal:\")\n",
        "print(filtered_words)\n",
        "print()\n",
        "\n",
        "# Stemming\n",
        "stemmer = PorterStemmer()\n",
        "stemmed_words = [stemmer.stem(word) for word in filtered_words]\n",
        "print(\"After Stemming:\")\n",
        "print(stemmed_words)\n",
        "print()\n",
        "\n",
        "# Parts of Speech Tagging\n",
        "pos_tags = pos_tag(filtered_words)\n",
        "print(\"Parts of Speech Tagging:\")\n",
        "print(pos_tags)"
      ]
    }
  ]
}